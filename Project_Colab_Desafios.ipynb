{
  "nbformat": 4,
  "nbformat_minor": 0,
  "metadata": {
    "colab": {
      "provenance": [],
      "authorship_tag": "ABX9TyNXDlkU+P5L5krUVPE2BjSx",
      "include_colab_link": true
    },
    "kernelspec": {
      "name": "python3",
      "display_name": "Python 3"
    },
    "language_info": {
      "name": "python"
    }
  },
  "cells": [
    {
      "cell_type": "markdown",
      "metadata": {
        "id": "view-in-github",
        "colab_type": "text"
      },
      "source": [
        "<a href=\"https://colab.research.google.com/github/BelisnalvaCosta/Project_Colab/blob/master/Project_Colab_Desafios.ipynb\" target=\"_parent\"><img src=\"https://colab.research.google.com/assets/colab-badge.svg\" alt=\"Open In Colab\"/></a>"
      ]
    },
    {
      "cell_type": "code",
      "execution_count": 8,
      "metadata": {
        "colab": {
          "base_uri": "https://localhost:8080/"
        },
        "id": "FE9MIt4vXWJW",
        "outputId": "757fc690-400f-4059-b06a-b21447886d4b"
      },
      "outputs": [
        {
          "output_type": "stream",
          "name": "stdout",
          "text": [
            "Nome: Ana\n",
            "Nota 1: 4\n",
            "Nota 2: 7\n",
            "Nota 3: 6\n",
            "Deseja continuar? [S/N] S\n",
            "Nome: Rafael\n",
            "Nota 1: 3\n",
            "Nota 2: 6\n",
            "Nota 3: 9\n",
            "Deseja continuar? [S/N] S\n",
            "Nome: Ana\n",
            "Nota 1: 5\n",
            "Nota 2: 2\n",
            "Nota 3: 9\n",
            "Deseja continuar? [S/N] N\n",
            "-=-=-=-=-=-=-=-=-=-=-=-=-=-=-=-=-=-=-=-=-=-=-=-=-=-=-=-=-=-=\n",
            "No. NOME         MÉDIA\n",
            "--------------------------\n",
            "0   Ana            5.7\n",
            "1   Rafael         6.0\n",
            "2   Ana            5.3\n",
            "-----------------------------------\n",
            "Mostrar as notas de qual aluno(a)? (999 interrompe a operação): 2\n",
            "Notas de Ana são [5.0, 2.0, 9.0]\n",
            "-----------------------------------\n",
            "Mostrar as notas de qual aluno(a)? (999 interrompe a operação): 0\n",
            "Notas de Ana são [4.0, 7.0, 6.0]\n",
            "-----------------------------------\n",
            "Mostrar as notas de qual aluno(a)? (999 interrompe a operação): 1\n",
            "Notas de Rafael são [3.0, 6.0, 9.0]\n",
            "-----------------------------------\n",
            "Mostrar as notas de qual aluno(a)? (999 interrompe a operação): 999\n",
            "Finalizando...\n",
            "***** VOLTE SEMPRE *****\n"
          ]
        }
      ],
      "source": [
        "ficha = list()\n",
        "while True:\n",
        "  nome = str(input('Nome: '))\n",
        "  nota1 = float(input('Nota 1: '))\n",
        "  nota2 = float(input('Nota 2: '))\n",
        "  nota3 = float(input('Nota 3: '))\n",
        "  media = (nota1 + nota2 + nota3) / 3\n",
        "  ficha.append([nome, [nota1, nota2, nota3], media])\n",
        "  resp = str(input('Deseja continuar? [S/N] '))\n",
        "  if resp in 'Nn':\n",
        "    break\n",
        "print('-=' * 30)\n",
        "print(f'{\"No.\":<4}{\"NOME\":<10}{\"MÉDIA\":>8}')\n",
        "print('-' * 26)\n",
        "for i, a in enumerate(ficha):\n",
        "  print(f'{i:<4}{a[0]:<10}{a[2]:>8.1f}')\n",
        "while True:\n",
        "  print('-' * 35)\n",
        "  opcao = int(input('Mostrar as notas de qual aluno(a)? (999 interrompe a operação): '))\n",
        "  if opcao == 999:\n",
        "    print('Finalizando...')\n",
        "    break\n",
        "  if opcao <= len(ficha) - 1:\n",
        "    print(f'Notas de {ficha[opcao][0]} são {ficha[opcao][1]}')\n",
        "print('***** VOLTE SEMPRE *****')\n",
        "\n",
        "\n",
        "\n"
      ]
    }
  ]
}